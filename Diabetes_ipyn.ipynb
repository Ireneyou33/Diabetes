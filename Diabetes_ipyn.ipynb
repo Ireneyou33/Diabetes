{
  "nbformat": 4,
  "nbformat_minor": 0,
  "metadata": {
    "colab": {
      "name": "Diabetes.ipyn",
      "provenance": [],
      "collapsed_sections": [],
      "toc_visible": true,
      "authorship_tag": "ABX9TyPW/Rs1gQ6lz4YU4WKXcFO3"
    },
    "kernelspec": {
      "name": "python3",
      "display_name": "Python 3"
    }
  },
  "cells": [
    {
      "cell_type": "markdown",
      "metadata": {
        "id": "QkfCkk7Xsz8n",
        "colab_type": "text"
      },
      "source": [
        "Reference:\n",
        "Loy, James. \"Neural Network Projects with Python\". Packt"
      ]
    },
    {
      "cell_type": "code",
      "metadata": {
        "id": "J_5-samWoki9",
        "colab_type": "code",
        "colab": {}
      },
      "source": [
        "import pandas as pd\n",
        "from matplotlib import pyplot as plt\n",
        "import seaborn as sns\n",
        "import numpy as np\n",
        "from sklearn import preprocessing\n",
        "from sklearn.model_selection import train_test_split\n",
        "from keras.models import Sequential\n",
        "from keras.layers import Dense\n",
        "from sklearn.metrics import confusion_matrix\n",
        "import seaborn as sns\n",
        "from sklearn.metrics import roc_curve\n",
        "import matplotlib.pyplot as plt"
      ],
      "execution_count": 0,
      "outputs": []
    },
    {
      "cell_type": "code",
      "metadata": {
        "id": "2VmIBQjopMe5",
        "colab_type": "code",
        "outputId": "3c6d902c-4b06-4d0f-e6ab-936ca3c6aa9d",
        "colab": {
          "base_uri": "https://localhost:8080/",
          "height": 34
        }
      },
      "source": [
        "from google.colab import drive\n",
        "drive.mount('/content/drive')"
      ],
      "execution_count": 0,
      "outputs": [
        {
          "output_type": "stream",
          "text": [
            "Drive already mounted at /content/drive; to attempt to forcibly remount, call drive.mount(\"/content/drive\", force_remount=True).\n"
          ],
          "name": "stdout"
        }
      ]
    },
    {
      "cell_type": "markdown",
      "metadata": {
        "id": "Te11_zvUssYz",
        "colab_type": "text"
      },
      "source": [
        "## Importing Diabetes Dataset"
      ]
    },
    {
      "cell_type": "code",
      "metadata": {
        "id": "wd9fGT40pNxC",
        "colab_type": "code",
        "colab": {}
      },
      "source": [
        "df = pd.read_csv('/content/drive/My Drive/N/Diabetes/diabetes.csv')"
      ],
      "execution_count": 0,
      "outputs": []
    },
    {
      "cell_type": "code",
      "metadata": {
        "id": "hijpeoYqpaq7",
        "colab_type": "code",
        "outputId": "ca2be6f9-9304-4534-8f2e-99f6fa96a01b",
        "colab": {
          "base_uri": "https://localhost:8080/",
          "height": 158
        }
      },
      "source": [
        "print(df.head())"
      ],
      "execution_count": 0,
      "outputs": [
        {
          "output_type": "stream",
          "text": [
            "   Pregnancies  Glucose  BloodPressure  ...  DiabetesPedigreeFunction  Age  Outcome\n",
            "0            6      148             72  ...                     0.627   50        1\n",
            "1            1       85             66  ...                     0.351   31        0\n",
            "2            8      183             64  ...                     0.672   32        1\n",
            "3            1       89             66  ...                     0.167   21        0\n",
            "4            0      137             40  ...                     2.288   33        1\n",
            "\n",
            "[5 rows x 9 columns]\n"
          ],
          "name": "stdout"
        }
      ]
    },
    {
      "cell_type": "markdown",
      "metadata": {
        "id": "SbDLNkjnpk06",
        "colab_type": "text"
      },
      "source": [
        "### Variables\n",
        "- **Pregnancies**: Number of previous pregnancies\n",
        "- **Glucose**: Plasma glucose concentration\n",
        "- **BloodPressure**: Diastolic blood pressure\n",
        "- **SkinThickness**: Skin fold thickness measured from the triceps\n",
        "- **Insulin**: Blood serum insulin concentration\n",
        "- **BMI**: Body mass index\n",
        "- **DiabetesPedigreeFunction**: A summarized score that indicates the genetic predisposition of the patient for diabetes, as extrapolated from the patient's family record for diabetes\n",
        "- **Age**: Age in years\n",
        "- **Outcome**: The target variable we are trying to predict, 1 for patients that developed diabetes within 5 years of the initial measurement, and 0 o.w."
      ]
    },
    {
      "cell_type": "markdown",
      "metadata": {
        "id": "NdDTT2iI2GGc",
        "colab_type": "text"
      },
      "source": [
        "### Data visualization"
      ]
    },
    {
      "cell_type": "code",
      "metadata": {
        "id": "5ITqOsw1pgUD",
        "colab_type": "code",
        "outputId": "2e47580a-590a-4e2e-989f-db1ff7e3941a",
        "colab": {
          "base_uri": "https://localhost:8080/",
          "height": 499
        }
      },
      "source": [
        "df.hist(figsize=(8,8), grid=False)\n",
        "plt.show()"
      ],
      "execution_count": 0,
      "outputs": [
        {
          "output_type": "display_data",
          "data": {
            "image/png": "[encoded data removed]",
            "text/plain": [
              "<Figure size 576x576 with 9 Axes>"
            ]
          },
          "metadata": {
            "tags": []
          }
        }
      ]
    },
    {
      "cell_type": "markdown",
      "metadata": {
        "id": "_KHqyGFVsCUM",
        "colab_type": "text"
      },
      "source": [
        "- Data was collected among young people btw 20 to 30 years old.\n",
        "- BMI, BloodPressure, Glucose have normal distribution.\n",
        "- Missing values: BMI, BloodPressure, Glucose have 0 values which is not logical, they must be missing values.\n",
        "- Outliers: Many variables have outliers(i.e. Insulin, Pregnancies, skinThickness) and are reasonable."
      ]
    },
    {
      "cell_type": "code",
      "metadata": {
        "id": "epTS1WHXq9AS",
        "colab_type": "code",
        "outputId": "44f0cc2a-d565-4662-b942-9c784113ddf5",
        "colab": {
          "base_uri": "https://localhost:8080/",
          "height": 733
        }
      },
      "source": [
        "#import seaborn as sns\n",
        "plt.subplots(3,3,figsize=(10,10))\n",
        "\n",
        "# Create density plots for each variable\n",
        "for idx, col in enumerate(df.columns):\n",
        "  ax=plt.subplot(3,3,idx+1)\n",
        "  #ax.yaxis.set_ticklabels([])\n",
        "  sns.distplot(df.loc[df.Outcome==0][col], hist=False, axlabel=False, kde_kws={'linestyle':'-', 'color':'black','label':\"No Diabetes\"})\n",
        "  sns.distplot(df.loc[df.Outcome==1][col], hist=False, axlabel=False, kde_kws={'linestyle':'-', 'color':'red','label':'Diabetes'})\n",
        "  ax.set_title(col)\n",
        "\n",
        "# Hide the 9th plot, since there are only 8 variables\n",
        "plt.subplot(3,3,9).set_visible(False)\n",
        "\n",
        "plt.show()"
      ],
      "execution_count": 0,
      "outputs": [
        {
          "output_type": "stream",
          "text": [
            "/usr/local/lib/python3.6/dist-packages/seaborn/distributions.py:288: UserWarning: Data must have variance to compute a kernel density estimate.\n",
            "  warnings.warn(msg, UserWarning)\n",
            "/usr/local/lib/python3.6/dist-packages/seaborn/distributions.py:288: UserWarning: Data must have variance to compute a kernel density estimate.\n",
            "  warnings.warn(msg, UserWarning)\n",
            "/usr/local/lib/python3.6/dist-packages/ipykernel_launcher.py:12: MatplotlibDeprecationWarning: Adding an axes using the same arguments as a previous axes currently reuses the earlier instance.  In a future version, a new instance will always be created and returned.  Meanwhile, this warning can be suppressed, and the future behavior ensured, by passing a unique label to each axes instance.\n",
            "  if sys.path[0] == '':\n"
          ],
          "name": "stderr"
        },
        {
          "output_type": "display_data",
          "data": {
            "image/png": "[encoded data removed]",
            "text/plain": [
              "<Figure size 720x720 with 9 Axes>"
            ]
          },
          "metadata": {
            "tags": []
          }
        }
      ]
    },
    {
      "cell_type": "markdown",
      "metadata": {
        "id": "-EQxCac6y9_f",
        "colab_type": "text"
      },
      "source": [
        "Some plots show a quite different distribution of non-diabetes and diabetes. For example, from the glutcose plot we can tell non-diabetes centered around 100 while diabetes have a higher mean glutcose. By having more previous pregnancies seem can lead to higher probability of having diabetes. Non-diabetes have smaller BMI values on average, and similarly from the Age plot we can tell that diabetes population is older.\n",
        "Other plots do not show any significant difference among two groups."
      ]
    },
    {
      "cell_type": "markdown",
      "metadata": {
        "id": "20Pqi19E15yU",
        "colab_type": "text"
      },
      "source": [
        "## Data Preprocessing"
      ]
    },
    {
      "cell_type": "code",
      "metadata": {
        "id": "NpT4Q-G7yF-O",
        "colab_type": "code",
        "outputId": "2fe9a1da-505e-49dc-b586-dc4308936583",
        "colab": {
          "base_uri": "https://localhost:8080/",
          "height": 193
        }
      },
      "source": [
        "# Checking missing values\n",
        "print(df.isnull().any())"
      ],
      "execution_count": 0,
      "outputs": [
        {
          "output_type": "stream",
          "text": [
            "Pregnancies                 False\n",
            "Glucose                     False\n",
            "BloodPressure               False\n",
            "SkinThickness               False\n",
            "Insulin                     False\n",
            "BMI                         False\n",
            "DiabetesPedigreeFunction    False\n",
            "Age                         False\n",
            "Outcome                     False\n",
            "dtype: bool\n"
          ],
          "name": "stdout"
        }
      ]
    },
    {
      "cell_type": "code",
      "metadata": {
        "id": "eyg-vuZZ2T4L",
        "colab_type": "code",
        "outputId": "2d45c77e-a1e7-4677-8f3d-b92936f7ab8a",
        "colab": {
          "base_uri": "https://localhost:8080/",
          "height": 284
        }
      },
      "source": [
        "data_description=df.describe(include=\"all\")\n",
        "data_description"
      ],
      "execution_count": 0,
      "outputs": [
        {
          "output_type": "execute_result",
          "data": {
            "text/html": [
              "<div>\n",
              "<style scoped>\n",
              "    .dataframe tbody tr th:only-of-type {\n",
              "        vertical-align: middle;\n",
              "    }\n",
              "\n",
              "    .dataframe tbody tr th {\n",
              "        vertical-align: top;\n",
              "    }\n",
              "\n",
              "    .dataframe thead th {\n",
              "        text-align: right;\n",
              "    }\n",
              "</style>\n",
              "<table border=\"1\" class=\"dataframe\">\n",
              "  <thead>\n",
              "    <tr style=\"text-align: right;\">\n",
              "      <th></th>\n",
              "      <th>Pregnancies</th>\n",
              "      <th>Glucose</th>\n",
              "      <th>BloodPressure</th>\n",
              "      <th>SkinThickness</th>\n",
              "      <th>Insulin</th>\n",
              "      <th>BMI</th>\n",
              "      <th>DiabetesPedigreeFunction</th>\n",
              "      <th>Age</th>\n",
              "      <th>Outcome</th>\n",
              "    </tr>\n",
              "  </thead>\n",
              "  <tbody>\n",
              "    <tr>\n",
              "      <th>count</th>\n",
              "      <td>768.000000</td>\n",
              "      <td>768.000000</td>\n",
              "      <td>768.000000</td>\n",
              "      <td>768.000000</td>\n",
              "      <td>768.000000</td>\n",
              "      <td>768.000000</td>\n",
              "      <td>768.000000</td>\n",
              "      <td>768.000000</td>\n",
              "      <td>768.000000</td>\n",
              "    </tr>\n",
              "    <tr>\n",
              "      <th>mean</th>\n",
              "      <td>3.845052</td>\n",
              "      <td>120.894531</td>\n",
              "      <td>69.105469</td>\n",
              "      <td>20.536458</td>\n",
              "      <td>79.799479</td>\n",
              "      <td>31.992578</td>\n",
              "      <td>0.471876</td>\n",
              "      <td>33.240885</td>\n",
              "      <td>0.348958</td>\n",
              "    </tr>\n",
              "    <tr>\n",
              "      <th>std</th>\n",
              "      <td>3.369578</td>\n",
              "      <td>31.972618</td>\n",
              "      <td>19.355807</td>\n",
              "      <td>15.952218</td>\n",
              "      <td>115.244002</td>\n",
              "      <td>7.884160</td>\n",
              "      <td>0.331329</td>\n",
              "      <td>11.760232</td>\n",
              "      <td>0.476951</td>\n",
              "    </tr>\n",
              "    <tr>\n",
              "      <th>min</th>\n",
              "      <td>0.000000</td>\n",
              "      <td>0.000000</td>\n",
              "      <td>0.000000</td>\n",
              "      <td>0.000000</td>\n",
              "      <td>0.000000</td>\n",
              "      <td>0.000000</td>\n",
              "      <td>0.078000</td>\n",
              "      <td>21.000000</td>\n",
              "      <td>0.000000</td>\n",
              "    </tr>\n",
              "    <tr>\n",
              "      <th>25%</th>\n",
              "      <td>1.000000</td>\n",
              "      <td>99.000000</td>\n",
              "      <td>62.000000</td>\n",
              "      <td>0.000000</td>\n",
              "      <td>0.000000</td>\n",
              "      <td>27.300000</td>\n",
              "      <td>0.243750</td>\n",
              "      <td>24.000000</td>\n",
              "      <td>0.000000</td>\n",
              "    </tr>\n",
              "    <tr>\n",
              "      <th>50%</th>\n",
              "      <td>3.000000</td>\n",
              "      <td>117.000000</td>\n",
              "      <td>72.000000</td>\n",
              "      <td>23.000000</td>\n",
              "      <td>30.500000</td>\n",
              "      <td>32.000000</td>\n",
              "      <td>0.372500</td>\n",
              "      <td>29.000000</td>\n",
              "      <td>0.000000</td>\n",
              "    </tr>\n",
              "    <tr>\n",
              "      <th>75%</th>\n",
              "      <td>6.000000</td>\n",
              "      <td>140.250000</td>\n",
              "      <td>80.000000</td>\n",
              "      <td>32.000000</td>\n",
              "      <td>127.250000</td>\n",
              "      <td>36.600000</td>\n",
              "      <td>0.626250</td>\n",
              "      <td>41.000000</td>\n",
              "      <td>1.000000</td>\n",
              "    </tr>\n",
              "    <tr>\n",
              "      <th>max</th>\n",
              "      <td>17.000000</td>\n",
              "      <td>199.000000</td>\n",
              "      <td>122.000000</td>\n",
              "      <td>99.000000</td>\n",
              "      <td>846.000000</td>\n",
              "      <td>67.100000</td>\n",
              "      <td>2.420000</td>\n",
              "      <td>81.000000</td>\n",
              "      <td>1.000000</td>\n",
              "    </tr>\n",
              "  </tbody>\n",
              "</table>\n",
              "</div>"
            ],
            "text/plain": [
              "       Pregnancies     Glucose  ...         Age     Outcome\n",
              "count   768.000000  768.000000  ...  768.000000  768.000000\n",
              "mean      3.845052  120.894531  ...   33.240885    0.348958\n",
              "std       3.369578   31.972618  ...   11.760232    0.476951\n",
              "min       0.000000    0.000000  ...   21.000000    0.000000\n",
              "25%       1.000000   99.000000  ...   24.000000    0.000000\n",
              "50%       3.000000  117.000000  ...   29.000000    0.000000\n",
              "75%       6.000000  140.250000  ...   41.000000    1.000000\n",
              "max      17.000000  199.000000  ...   81.000000    1.000000\n",
              "\n",
              "[8 rows x 9 columns]"
            ]
          },
          "metadata": {
            "tags": []
          },
          "execution_count": 109
        }
      ]
    },
    {
      "cell_type": "markdown",
      "metadata": {
        "id": "ZdDXmMsT2bH7",
        "colab_type": "text"
      },
      "source": [
        "As previously mentioned, there are some variables can never have observations equal to 0. From the table above, Glucose, BloodPressure, SkinThickness, Insulin, and BMI have some values equal to 0, which are missing values."
      ]
    },
    {
      "cell_type": "code",
      "metadata": {
        "id": "2YvRNEr92Yao",
        "colab_type": "code",
        "outputId": "c57b076a-c269-46ca-cb41-369c2de25183",
        "colab": {
          "base_uri": "https://localhost:8080/",
          "height": 175
        }
      },
      "source": [
        "# Check number of 0-values for each variable\n",
        "for col in df.columns:\n",
        "  num_missing_values=df.loc[df[col]==0].shape[0]\n",
        "  print(col+\":\"+str(num_missing_values))"
      ],
      "execution_count": 0,
      "outputs": [
        {
          "output_type": "stream",
          "text": [
            "Pregnancies:111\n",
            "Glucose:5\n",
            "BloodPressure:35\n",
            "SkinThickness:227\n",
            "Insulin:374\n",
            "BMI:11\n",
            "DiabetesPedigreeFunction:0\n",
            "Age:0\n",
            "Outcome:500\n"
          ],
          "name": "stdout"
        }
      ]
    },
    {
      "cell_type": "markdown",
      "metadata": {
        "id": "nETMSuEJ5pJG",
        "colab_type": "text"
      },
      "source": [
        "### Missing values\n",
        "hading missing values:\n",
        "- Remove whole rows with missing values.\n",
        "- Replace missing values with mean, median, mode or other values.\n",
        "- Predict the missing values by using other tools or models.\n"
      ]
    },
    {
      "cell_type": "code",
      "metadata": {
        "id": "iCvUITqt4sUf",
        "colab_type": "code",
        "colab": {}
      },
      "source": [
        "# import numpy as np\n",
        "# Replace missing values with NaN\n",
        "col=[\"Glucose\", \"BloodPressure\", \"SkinThickness\", \"Insulin\", \"BMI\"]\n",
        "for i in col:\n",
        "  df[i]=df[i].replace(0, np.nan)"
      ],
      "execution_count": 0,
      "outputs": []
    },
    {
      "cell_type": "code",
      "metadata": {
        "id": "pmkZ-ag568zO",
        "colab_type": "code",
        "outputId": "fcba737b-ca99-4bcd-d27e-0f634b7cee53",
        "colab": {
          "base_uri": "https://localhost:8080/",
          "height": 175
        }
      },
      "source": [
        "# Check number of 0-missing values for each column\n",
        "for i in df.columns:\n",
        "  num_missing_values = df.loc[df[i]==0].shape[0]\n",
        "  print(i+\":\"+str(num_missing_values))"
      ],
      "execution_count": 0,
      "outputs": [
        {
          "output_type": "stream",
          "text": [
            "Pregnancies:111\n",
            "Glucose:0\n",
            "BloodPressure:0\n",
            "SkinThickness:0\n",
            "Insulin:0\n",
            "BMI:0\n",
            "DiabetesPedigreeFunction:0\n",
            "Age:0\n",
            "Outcome:500\n"
          ],
          "name": "stdout"
        }
      ]
    },
    {
      "cell_type": "code",
      "metadata": {
        "id": "POoTJuS67xVX",
        "colab_type": "code",
        "outputId": "41cb198b-4cf1-46c4-fb18-73c22ff11b5e",
        "colab": {
          "base_uri": "https://localhost:8080/",
          "height": 193
        }
      },
      "source": [
        "# Check NaN-missing values\n",
        "print(df.isnull().any())"
      ],
      "execution_count": 0,
      "outputs": [
        {
          "output_type": "stream",
          "text": [
            "Pregnancies                 False\n",
            "Glucose                      True\n",
            "BloodPressure                True\n",
            "SkinThickness                True\n",
            "Insulin                      True\n",
            "BMI                          True\n",
            "DiabetesPedigreeFunction    False\n",
            "Age                         False\n",
            "Outcome                     False\n",
            "dtype: bool\n"
          ],
          "name": "stdout"
        }
      ]
    },
    {
      "cell_type": "code",
      "metadata": {
        "id": "5CUZiMlI8hEY",
        "colab_type": "code",
        "colab": {}
      },
      "source": [
        "# Fill NaN col by col with its corresponding mean values\n",
        "for i in col:\n",
        "  df[i]=df[i].fillna(df[i].mean()) #df[i].maen(): Omit NaN and calculate the average."
      ],
      "execution_count": 0,
      "outputs": []
    },
    {
      "cell_type": "markdown",
      "metadata": {
        "id": "i4U1DoXu9XmU",
        "colab_type": "text"
      },
      "source": [
        "### Data Standardization"
      ]
    },
    {
      "cell_type": "markdown",
      "metadata": {
        "id": "LHsz6Fgq_Cxw",
        "colab_type": "text"
      },
      "source": [
        "Standardizing is neccessary since different scales of variables can affect the result a lot, the variable with a greater scale tends to dominate when training the network. "
      ]
    },
    {
      "cell_type": "code",
      "metadata": {
        "id": "FT5zsIXL9Uz0",
        "colab_type": "code",
        "outputId": "d364cc41-3299-4ce2-8bd5-537f0c1afb3c",
        "colab": {
          "base_uri": "https://localhost:8080/",
          "height": 158
        }
      },
      "source": [
        "#from sklearn import preprocessing\n",
        "df_scaled = preprocessing.scale(df) # output is not pd DataFrame\n",
        "#print(df_scaled)\n",
        "df_scaled = pd.DataFrame(df_scaled, columns=df.columns) # convert it back to pd DataFrame\n",
        "#print(df_scaled.head())\n",
        "df_scaled[\"Outcome\"]=df[\"Outcome\"] # Outcome column does not need to be scaled\n",
        "df=df_scaled\n",
        "print(df.head())"
      ],
      "execution_count": 0,
      "outputs": [
        {
          "output_type": "stream",
          "text": [
            "   Pregnancies   Glucose  ...       Age  Outcome\n",
            "0     0.639947  0.865108  ...  1.425995        1\n",
            "1    -0.844885 -1.206162  ... -0.190672        0\n",
            "2     1.233880  2.015813  ... -0.105584        1\n",
            "3    -0.844885 -1.074652  ... -1.041549        0\n",
            "4    -1.141852  0.503458  ... -0.020496        1\n",
            "\n",
            "[5 rows x 9 columns]\n"
          ],
          "name": "stdout"
        }
      ]
    },
    {
      "cell_type": "code",
      "metadata": {
        "id": "WiJZtGWjBT3F",
        "colab_type": "code",
        "outputId": "ff45d09d-fef6-4c1f-ae27-046019893de6",
        "colab": {
          "base_uri": "https://localhost:8080/",
          "height": 136
        }
      },
      "source": [
        "data_description=df.describe().loc[[\"mean\",\"std\",\"max\"],].round(2).abs()\n",
        "data_description"
      ],
      "execution_count": 0,
      "outputs": [
        {
          "output_type": "execute_result",
          "data": {
            "text/html": [
              "<div>\n",
              "<style scoped>\n",
              "    .dataframe tbody tr th:only-of-type {\n",
              "        vertical-align: middle;\n",
              "    }\n",
              "\n",
              "    .dataframe tbody tr th {\n",
              "        vertical-align: top;\n",
              "    }\n",
              "\n",
              "    .dataframe thead th {\n",
              "        text-align: right;\n",
              "    }\n",
              "</style>\n",
              "<table border=\"1\" class=\"dataframe\">\n",
              "  <thead>\n",
              "    <tr style=\"text-align: right;\">\n",
              "      <th></th>\n",
              "      <th>Pregnancies</th>\n",
              "      <th>Glucose</th>\n",
              "      <th>BloodPressure</th>\n",
              "      <th>SkinThickness</th>\n",
              "      <th>Insulin</th>\n",
              "      <th>BMI</th>\n",
              "      <th>DiabetesPedigreeFunction</th>\n",
              "      <th>Age</th>\n",
              "      <th>Outcome</th>\n",
              "    </tr>\n",
              "  </thead>\n",
              "  <tbody>\n",
              "    <tr>\n",
              "      <th>mean</th>\n",
              "      <td>0.00</td>\n",
              "      <td>0.00</td>\n",
              "      <td>0.0</td>\n",
              "      <td>0.00</td>\n",
              "      <td>0.00</td>\n",
              "      <td>0.00</td>\n",
              "      <td>0.00</td>\n",
              "      <td>0.00</td>\n",
              "      <td>0.35</td>\n",
              "    </tr>\n",
              "    <tr>\n",
              "      <th>std</th>\n",
              "      <td>1.00</td>\n",
              "      <td>1.00</td>\n",
              "      <td>1.0</td>\n",
              "      <td>1.00</td>\n",
              "      <td>1.00</td>\n",
              "      <td>1.00</td>\n",
              "      <td>1.00</td>\n",
              "      <td>1.00</td>\n",
              "      <td>0.48</td>\n",
              "    </tr>\n",
              "    <tr>\n",
              "      <th>max</th>\n",
              "      <td>3.91</td>\n",
              "      <td>2.54</td>\n",
              "      <td>4.1</td>\n",
              "      <td>7.95</td>\n",
              "      <td>8.13</td>\n",
              "      <td>5.04</td>\n",
              "      <td>5.88</td>\n",
              "      <td>4.06</td>\n",
              "      <td>1.00</td>\n",
              "    </tr>\n",
              "  </tbody>\n",
              "</table>\n",
              "</div>"
            ],
            "text/plain": [
              "      Pregnancies  Glucose  ...   Age  Outcome\n",
              "mean         0.00     0.00  ...  0.00     0.35\n",
              "std          1.00     1.00  ...  1.00     0.48\n",
              "max          3.91     2.54  ...  4.06     1.00\n",
              "\n",
              "[3 rows x 9 columns]"
            ]
          },
          "metadata": {
            "tags": []
          },
          "execution_count": 116
        }
      ]
    },
    {
      "cell_type": "markdown",
      "metadata": {
        "id": "AR6w81H6C-Sp",
        "colab_type": "text"
      },
      "source": [
        "Now all variables have 0 mean and unit variance.\n"
      ]
    },
    {
      "cell_type": "markdown",
      "metadata": {
        "id": "eka3OVn9DZ3a",
        "colab_type": "text"
      },
      "source": [
        "### Split the Dataset\n",
        "Including a training set, test set and a validation set."
      ]
    },
    {
      "cell_type": "code",
      "metadata": {
        "id": "maMi5ScKCMNr",
        "colab_type": "code",
        "colab": {}
      },
      "source": [
        "# from sklearn.model_selection import train_test_split\n",
        "X = df.loc[:, df.columns!=\"Outcome\"]\n",
        "y = df.loc[:, \"Outcome\"]"
      ],
      "execution_count": 0,
      "outputs": []
    },
    {
      "cell_type": "code",
      "metadata": {
        "id": "J87YvYPjHLo4",
        "colab_type": "code",
        "colab": {}
      },
      "source": [
        "# 80% training, 20% testing\n",
        "X_train, X_test, y_train, y_test = train_test_split(X, y, test_size=0.2)\n",
        "# 80% training, 20% validation\n",
        "X_train, X_val, y_train, y_val = train_test_split(X_train, y_train, test_size=0.2)"
      ],
      "execution_count": 0,
      "outputs": []
    },
    {
      "cell_type": "markdown",
      "metadata": {
        "id": "k4DLUoQKKMVO",
        "colab_type": "text"
      },
      "source": [
        "## Model Building"
      ]
    },
    {
      "cell_type": "code",
      "metadata": {
        "id": "Em3OznUmIrX4",
        "colab_type": "code",
        "colab": {}
      },
      "source": [
        "# from keras.models import Sequential\n",
        "model = Sequential()"
      ],
      "execution_count": 0,
      "outputs": []
    },
    {
      "cell_type": "markdown",
      "metadata": {
        "id": "EIK1_jk_Oa_L",
        "colab_type": "text"
      },
      "source": [
        "### First hidden layer\n",
        "- inpue shape = (8,): 8 variables/features \n",
        "- 32 neurons in the 1st layer\n",
        "- ReLU(rectified linear unit): $f(x)=max(0,x) $"
      ]
    },
    {
      "cell_type": "code",
      "metadata": {
        "id": "qo1fMPpaLHIu",
        "colab_type": "code",
        "outputId": "e4452d65-f9c0-44d6-a51b-7520cda1fe0e",
        "colab": {
          "base_uri": "https://localhost:8080/",
          "height": 87
        }
      },
      "source": [
        "# from keras.layers import Dense\n",
        "model.add(Dense(32, activation='relu', input_shape=(8,))) "
      ],
      "execution_count": 0,
      "outputs": [
        {
          "output_type": "stream",
          "text": [
            "WARNING:tensorflow:From /usr/local/lib/python3.6/dist-packages/keras/backend/tensorflow_backend.py:541: The name tf.placeholder is deprecated. Please use tf.compat.v1.placeholder instead.\n",
            "\n",
            "WARNING:tensorflow:From /usr/local/lib/python3.6/dist-packages/keras/backend/tensorflow_backend.py:4432: The name tf.random_uniform is deprecated. Please use tf.random.uniform instead.\n",
            "\n"
          ],
          "name": "stdout"
        }
      ]
    },
    {
      "cell_type": "markdown",
      "metadata": {
        "id": "bPM_Y9JtOoxH",
        "colab_type": "text"
      },
      "source": [
        "### Second hidden layer"
      ]
    },
    {
      "cell_type": "code",
      "metadata": {
        "id": "llFFJNoSLgms",
        "colab_type": "code",
        "colab": {}
      },
      "source": [
        "model.add(Dense(16, activation='relu'))"
      ],
      "execution_count": 0,
      "outputs": []
    },
    {
      "cell_type": "markdown",
      "metadata": {
        "id": "rejU3L7BPhGn",
        "colab_type": "text"
      },
      "source": [
        "### Outpit layer\n",
        "- sigmoid: $\\frac{1}{1+e^{-x}}$ squashes the output btw 0 and 1."
      ]
    },
    {
      "cell_type": "code",
      "metadata": {
        "id": "jOOET9WZPgUA",
        "colab_type": "code",
        "colab": {}
      },
      "source": [
        "model.add(Dense(1, activation='sigmoid'))"
      ],
      "execution_count": 0,
      "outputs": []
    },
    {
      "cell_type": "code",
      "metadata": {
        "id": "gbx6FpAPS_Kq",
        "colab_type": "code",
        "outputId": "be96253b-0dfa-44b5-e377-6995d5bf572f",
        "colab": {
          "base_uri": "https://localhost:8080/",
          "height": 281
        }
      },
      "source": [
        "print(model.summary())"
      ],
      "execution_count": 0,
      "outputs": [
        {
          "output_type": "stream",
          "text": [
            "Model: \"sequential_1\"\n",
            "_________________________________________________________________\n",
            "Layer (type)                 Output Shape              Param #   \n",
            "=================================================================\n",
            "dense_6 (Dense)              (None, 32)                288       \n",
            "_________________________________________________________________\n",
            "dense_7 (Dense)              (None, 16)                528       \n",
            "_________________________________________________________________\n",
            "dense_8 (Dense)              (None, 1)                 17        \n",
            "=================================================================\n",
            "Total params: 833\n",
            "Trainable params: 833\n",
            "Non-trainable params: 0\n",
            "_________________________________________________________________\n",
            "None\n"
          ],
          "name": "stdout"
        }
      ]
    },
    {
      "cell_type": "markdown",
      "metadata": {
        "id": "QMI0ra-ZQDBP",
        "colab_type": "text"
      },
      "source": [
        "### Model complication\n",
        "define parameters using **compile** method\n",
        "- **Optimizer:** \n",
        "  - *Adam* optimizer works best for DNNs \n",
        "  - *sgd* optimizer works best for shallow NNs\n",
        "  - *Adagrad* optimizer\n",
        "- **Loss function:**\n",
        "  - *mean_squared_error:* regression\n",
        "  - *categorical_crossentropy:* multiclass classification\n",
        "  - *binary_crossentropy:* binary classification\n",
        "- **Metrices:** \n",
        "  - *accuracy:* percentage of correctly classified samples\n",
        "\n"
      ]
    },
    {
      "cell_type": "code",
      "metadata": {
        "id": "4efIA_aKP_94",
        "colab_type": "code",
        "outputId": "45c88876-83f8-4fe6-c30d-6a586a7d4049",
        "colab": {
          "base_uri": "https://localhost:8080/",
          "height": 160
        }
      },
      "source": [
        "# Compile the model\n",
        "model.compile(optimizer='adam', loss='binary_crossentropy', metrics=['accuracy'])"
      ],
      "execution_count": 0,
      "outputs": [
        {
          "output_type": "stream",
          "text": [
            "WARNING:tensorflow:From /usr/local/lib/python3.6/dist-packages/keras/optimizers.py:793: The name tf.train.Optimizer is deprecated. Please use tf.compat.v1.train.Optimizer instead.\n",
            "\n",
            "WARNING:tensorflow:From /usr/local/lib/python3.6/dist-packages/keras/backend/tensorflow_backend.py:3657: The name tf.log is deprecated. Please use tf.math.log instead.\n",
            "\n",
            "WARNING:tensorflow:From /usr/local/lib/python3.6/dist-packages/tensorflow_core/python/ops/nn_impl.py:183: where (from tensorflow.python.ops.array_ops) is deprecated and will be removed in a future version.\n",
            "Instructions for updating:\n",
            "Use tf.where in 2.0, which has the same broadcast rule as np.where\n"
          ],
          "name": "stdout"
        }
      ]
    },
    {
      "cell_type": "markdown",
      "metadata": {
        "id": "8_YYLw8xVlwT",
        "colab_type": "text"
      },
      "source": [
        "### Model Training\n",
        "model.fit()"
      ]
    },
    {
      "cell_type": "code",
      "metadata": {
        "id": "Z8Vt84okVWLk",
        "colab_type": "code",
        "outputId": "8da222e5-5926-4626-c08d-db99c0bdb77b",
        "colab": {
          "base_uri": "https://localhost:8080/",
          "height": 1000
        }
      },
      "source": [
        "model.fit(X_train, y_train, epochs=200)"
      ],
      "execution_count": 0,
      "outputs": [
        {
          "output_type": "stream",
          "text": [
            "WARNING:tensorflow:From /usr/local/lib/python3.6/dist-packages/keras/backend/tensorflow_backend.py:1033: The name tf.assign_add is deprecated. Please use tf.compat.v1.assign_add instead.\n",
            "\n",
            "WARNING:tensorflow:From /usr/local/lib/python3.6/dist-packages/keras/backend/tensorflow_backend.py:1020: The name tf.assign is deprecated. Please use tf.compat.v1.assign instead.\n",
            "\n",
            "WARNING:tensorflow:From /usr/local/lib/python3.6/dist-packages/keras/backend/tensorflow_backend.py:3005: The name tf.Session is deprecated. Please use tf.compat.v1.Session instead.\n",
            "\n",
            "Epoch 1/200\n",
            "WARNING:tensorflow:From /usr/local/lib/python3.6/dist-packages/keras/backend/tensorflow_backend.py:190: The name tf.get_default_session is deprecated. Please use tf.compat.v1.get_default_session instead.\n",
            "\n",
            "WARNING:tensorflow:From /usr/local/lib/python3.6/dist-packages/keras/backend/tensorflow_backend.py:197: The name tf.ConfigProto is deprecated. Please use tf.compat.v1.ConfigProto instead.\n",
            "\n",
            "WARNING:tensorflow:From /usr/local/lib/python3.6/dist-packages/keras/backend/tensorflow_backend.py:207: The name tf.global_variables is deprecated. Please use tf.compat.v1.global_variables instead.\n",
            "\n",
            "WARNING:tensorflow:From /usr/local/lib/python3.6/dist-packages/keras/backend/tensorflow_backend.py:216: The name tf.is_variable_initialized is deprecated. Please use tf.compat.v1.is_variable_initialized instead.\n",
            "\n",
            "WARNING:tensorflow:From /usr/local/lib/python3.6/dist-packages/keras/backend/tensorflow_backend.py:223: The name tf.variables_initializer is deprecated. Please use tf.compat.v1.variables_initializer instead.\n",
            "\n",
            "491/491 [==============================] - 1s 2ms/step - loss: 0.7370 - acc: 0.3870\n",
            "Epoch 2/200\n",
            "491/491 [==============================] - 0s 55us/step - loss: 0.6667 - acc: 0.6029\n",
            "Epoch 3/200\n",
            "491/491 [==============================] - 0s 59us/step - loss: 0.6134 - acc: 0.7312\n",
            "Epoch 4/200\n",
            "491/491 [==============================] - 0s 63us/step - loss: 0.5716 - acc: 0.7536\n",
            "Epoch 5/200\n",
            "491/491 [==============================] - 0s 82us/step - loss: 0.5402 - acc: 0.7719\n",
            "Epoch 6/200\n",
            "491/491 [==============================] - 0s 59us/step - loss: 0.5147 - acc: 0.7800\n",
            "Epoch 7/200\n",
            "491/491 [==============================] - 0s 64us/step - loss: 0.4962 - acc: 0.7780\n",
            "Epoch 8/200\n",
            "491/491 [==============================] - 0s 56us/step - loss: 0.4835 - acc: 0.7800\n",
            "Epoch 9/200\n",
            "491/491 [==============================] - 0s 62us/step - loss: 0.4741 - acc: 0.7821\n",
            "Epoch 10/200\n",
            "491/491 [==============================] - 0s 63us/step - loss: 0.4666 - acc: 0.7821\n",
            "Epoch 11/200\n",
            "491/491 [==============================] - 0s 74us/step - loss: 0.4597 - acc: 0.7800\n",
            "Epoch 12/200\n",
            "491/491 [==============================] - 0s 69us/step - loss: 0.4548 - acc: 0.7841\n",
            "Epoch 13/200\n",
            "491/491 [==============================] - 0s 70us/step - loss: 0.4519 - acc: 0.7862\n",
            "Epoch 14/200\n",
            "491/491 [==============================] - 0s 64us/step - loss: 0.4476 - acc: 0.7923\n",
            "Epoch 15/200\n",
            "491/491 [==============================] - 0s 65us/step - loss: 0.4444 - acc: 0.7923\n",
            "Epoch 16/200\n",
            "491/491 [==============================] - 0s 60us/step - loss: 0.4416 - acc: 0.7902\n",
            "Epoch 17/200\n",
            "491/491 [==============================] - 0s 73us/step - loss: 0.4390 - acc: 0.7963\n",
            "Epoch 18/200\n",
            "491/491 [==============================] - 0s 60us/step - loss: 0.4361 - acc: 0.7943\n",
            "Epoch 19/200\n",
            "491/491 [==============================] - 0s 69us/step - loss: 0.4340 - acc: 0.8045\n",
            "Epoch 20/200\n",
            "491/491 [==============================] - 0s 73us/step - loss: 0.4318 - acc: 0.8045\n",
            "Epoch 21/200\n",
            "491/491 [==============================] - 0s 57us/step - loss: 0.4290 - acc: 0.8086\n",
            "Epoch 22/200\n",
            "491/491 [==============================] - 0s 62us/step - loss: 0.4266 - acc: 0.8086\n",
            "Epoch 23/200\n",
            "491/491 [==============================] - 0s 61us/step - loss: 0.4247 - acc: 0.8065\n",
            "Epoch 24/200\n",
            "491/491 [==============================] - 0s 65us/step - loss: 0.4222 - acc: 0.8065\n",
            "Epoch 25/200\n",
            "491/491 [==============================] - 0s 91us/step - loss: 0.4202 - acc: 0.8065\n",
            "Epoch 26/200\n",
            "491/491 [==============================] - 0s 64us/step - loss: 0.4188 - acc: 0.8086\n",
            "Epoch 27/200\n",
            "491/491 [==============================] - 0s 63us/step - loss: 0.4167 - acc: 0.8106\n",
            "Epoch 28/200\n",
            "491/491 [==============================] - 0s 70us/step - loss: 0.4153 - acc: 0.8065\n",
            "Epoch 29/200\n",
            "491/491 [==============================] - 0s 66us/step - loss: 0.4126 - acc: 0.8086\n",
            "Epoch 30/200\n",
            "491/491 [==============================] - 0s 66us/step - loss: 0.4109 - acc: 0.8065\n",
            "Epoch 31/200\n",
            "491/491 [==============================] - 0s 71us/step - loss: 0.4102 - acc: 0.8086\n",
            "Epoch 32/200\n",
            "491/491 [==============================] - 0s 60us/step - loss: 0.4074 - acc: 0.8086\n",
            "Epoch 33/200\n",
            "491/491 [==============================] - 0s 64us/step - loss: 0.4059 - acc: 0.8147\n",
            "Epoch 34/200\n",
            "491/491 [==============================] - 0s 66us/step - loss: 0.4046 - acc: 0.8147\n",
            "Epoch 35/200\n",
            "491/491 [==============================] - 0s 60us/step - loss: 0.4031 - acc: 0.8065\n",
            "Epoch 36/200\n",
            "491/491 [==============================] - 0s 69us/step - loss: 0.4014 - acc: 0.8126\n",
            "Epoch 37/200\n",
            "491/491 [==============================] - 0s 64us/step - loss: 0.3996 - acc: 0.8126\n",
            "Epoch 38/200\n",
            "491/491 [==============================] - 0s 59us/step - loss: 0.3972 - acc: 0.8106\n",
            "Epoch 39/200\n",
            "491/491 [==============================] - 0s 76us/step - loss: 0.3967 - acc: 0.8126\n",
            "Epoch 40/200\n",
            "491/491 [==============================] - 0s 66us/step - loss: 0.3947 - acc: 0.8147\n",
            "Epoch 41/200\n",
            "491/491 [==============================] - 0s 58us/step - loss: 0.3924 - acc: 0.8167\n",
            "Epoch 42/200\n",
            "491/491 [==============================] - 0s 65us/step - loss: 0.3908 - acc: 0.8208\n",
            "Epoch 43/200\n",
            "491/491 [==============================] - 0s 70us/step - loss: 0.3909 - acc: 0.8126\n",
            "Epoch 44/200\n",
            "491/491 [==============================] - 0s 61us/step - loss: 0.3879 - acc: 0.8228\n",
            "Epoch 45/200\n",
            "491/491 [==============================] - 0s 58us/step - loss: 0.3876 - acc: 0.8167\n",
            "Epoch 46/200\n",
            "491/491 [==============================] - 0s 81us/step - loss: 0.3862 - acc: 0.8228\n",
            "Epoch 47/200\n",
            "491/491 [==============================] - 0s 64us/step - loss: 0.3839 - acc: 0.8208\n",
            "Epoch 48/200\n",
            "491/491 [==============================] - 0s 65us/step - loss: 0.3835 - acc: 0.8228\n",
            "Epoch 49/200\n",
            "491/491 [==============================] - 0s 62us/step - loss: 0.3816 - acc: 0.8269\n",
            "Epoch 50/200\n",
            "491/491 [==============================] - 0s 66us/step - loss: 0.3786 - acc: 0.8248\n",
            "Epoch 51/200\n",
            "491/491 [==============================] - 0s 96us/step - loss: 0.3773 - acc: 0.8248\n",
            "Epoch 52/200\n",
            "491/491 [==============================] - 0s 66us/step - loss: 0.3759 - acc: 0.8289\n",
            "Epoch 53/200\n",
            "491/491 [==============================] - 0s 64us/step - loss: 0.3735 - acc: 0.8310\n",
            "Epoch 54/200\n",
            "491/491 [==============================] - 0s 63us/step - loss: 0.3727 - acc: 0.8269\n",
            "Epoch 55/200\n",
            "491/491 [==============================] - 0s 69us/step - loss: 0.3718 - acc: 0.8269\n",
            "Epoch 56/200\n",
            "491/491 [==============================] - 0s 66us/step - loss: 0.3694 - acc: 0.8350\n",
            "Epoch 57/200\n",
            "491/491 [==============================] - 0s 64us/step - loss: 0.3694 - acc: 0.8269\n",
            "Epoch 58/200\n",
            "491/491 [==============================] - 0s 67us/step - loss: 0.3681 - acc: 0.8330\n",
            "Epoch 59/200\n",
            "491/491 [==============================] - 0s 64us/step - loss: 0.3647 - acc: 0.8371\n",
            "Epoch 60/200\n",
            "491/491 [==============================] - 0s 62us/step - loss: 0.3643 - acc: 0.8411\n",
            "Epoch 61/200\n",
            "491/491 [==============================] - 0s 60us/step - loss: 0.3614 - acc: 0.8391\n",
            "Epoch 62/200\n",
            "491/491 [==============================] - 0s 67us/step - loss: 0.3597 - acc: 0.8452\n",
            "Epoch 63/200\n",
            "491/491 [==============================] - 0s 61us/step - loss: 0.3591 - acc: 0.8432\n",
            "Epoch 64/200\n",
            "491/491 [==============================] - 0s 64us/step - loss: 0.3567 - acc: 0.8391\n",
            "Epoch 65/200\n",
            "491/491 [==============================] - 0s 59us/step - loss: 0.3555 - acc: 0.8411\n",
            "Epoch 66/200\n",
            "491/491 [==============================] - 0s 62us/step - loss: 0.3547 - acc: 0.8432\n",
            "Epoch 67/200\n",
            "491/491 [==============================] - 0s 75us/step - loss: 0.3537 - acc: 0.8411\n",
            "Epoch 68/200\n",
            "491/491 [==============================] - 0s 63us/step - loss: 0.3516 - acc: 0.8432\n",
            "Epoch 69/200\n",
            "491/491 [==============================] - 0s 64us/step - loss: 0.3492 - acc: 0.8452\n",
            "Epoch 70/200\n",
            "491/491 [==============================] - 0s 68us/step - loss: 0.3504 - acc: 0.8432\n",
            "Epoch 71/200\n",
            "491/491 [==============================] - 0s 78us/step - loss: 0.3472 - acc: 0.8411\n",
            "Epoch 72/200\n",
            "491/491 [==============================] - 0s 70us/step - loss: 0.3458 - acc: 0.8432\n",
            "Epoch 73/200\n",
            "491/491 [==============================] - 0s 71us/step - loss: 0.3439 - acc: 0.8432\n",
            "Epoch 74/200\n",
            "491/491 [==============================] - 0s 69us/step - loss: 0.3430 - acc: 0.8473\n",
            "Epoch 75/200\n",
            "491/491 [==============================] - 0s 61us/step - loss: 0.3407 - acc: 0.8473\n",
            "Epoch 76/200\n",
            "491/491 [==============================] - 0s 63us/step - loss: 0.3402 - acc: 0.8513\n",
            "Epoch 77/200\n",
            "491/491 [==============================] - 0s 68us/step - loss: 0.3377 - acc: 0.8513\n",
            "Epoch 78/200\n",
            "491/491 [==============================] - 0s 60us/step - loss: 0.3381 - acc: 0.8554\n",
            "Epoch 79/200\n",
            "491/491 [==============================] - 0s 66us/step - loss: 0.3366 - acc: 0.8513\n",
            "Epoch 80/200\n",
            "491/491 [==============================] - 0s 64us/step - loss: 0.3354 - acc: 0.8493\n",
            "Epoch 81/200\n",
            "491/491 [==============================] - 0s 67us/step - loss: 0.3331 - acc: 0.8513\n",
            "Epoch 82/200\n",
            "491/491 [==============================] - 0s 73us/step - loss: 0.3317 - acc: 0.8554\n",
            "Epoch 83/200\n",
            "491/491 [==============================] - 0s 67us/step - loss: 0.3305 - acc: 0.8554\n",
            "Epoch 84/200\n",
            "491/491 [==============================] - 0s 61us/step - loss: 0.3306 - acc: 0.8513\n",
            "Epoch 85/200\n",
            "491/491 [==============================] - 0s 59us/step - loss: 0.3268 - acc: 0.8574\n",
            "Epoch 86/200\n",
            "491/491 [==============================] - 0s 65us/step - loss: 0.3262 - acc: 0.8554\n",
            "Epoch 87/200\n",
            "491/491 [==============================] - 0s 62us/step - loss: 0.3264 - acc: 0.8554\n",
            "Epoch 88/200\n",
            "491/491 [==============================] - 0s 59us/step - loss: 0.3245 - acc: 0.8534\n",
            "Epoch 89/200\n",
            "491/491 [==============================] - 0s 65us/step - loss: 0.3245 - acc: 0.8595\n",
            "Epoch 90/200\n",
            "491/491 [==============================] - 0s 78us/step - loss: 0.3207 - acc: 0.8595\n",
            "Epoch 91/200\n",
            "491/491 [==============================] - 0s 63us/step - loss: 0.3206 - acc: 0.8635\n",
            "Epoch 92/200\n",
            "491/491 [==============================] - 0s 69us/step - loss: 0.3179 - acc: 0.8615\n",
            "Epoch 93/200\n",
            "491/491 [==============================] - 0s 58us/step - loss: 0.3177 - acc: 0.8574\n",
            "Epoch 94/200\n",
            "491/491 [==============================] - 0s 75us/step - loss: 0.3166 - acc: 0.8534\n",
            "Epoch 95/200\n",
            "491/491 [==============================] - 0s 63us/step - loss: 0.3152 - acc: 0.8615\n",
            "Epoch 96/200\n",
            "491/491 [==============================] - 0s 62us/step - loss: 0.3143 - acc: 0.8615\n",
            "Epoch 97/200\n",
            "491/491 [==============================] - 0s 64us/step - loss: 0.3139 - acc: 0.8595\n",
            "Epoch 98/200\n",
            "491/491 [==============================] - 0s 61us/step - loss: 0.3113 - acc: 0.8595\n",
            "Epoch 99/200\n",
            "491/491 [==============================] - 0s 60us/step - loss: 0.3092 - acc: 0.8595\n",
            "Epoch 100/200\n",
            "491/491 [==============================] - 0s 72us/step - loss: 0.3088 - acc: 0.8635\n",
            "Epoch 101/200\n",
            "491/491 [==============================] - 0s 68us/step - loss: 0.3084 - acc: 0.8595\n",
            "Epoch 102/200\n",
            "491/491 [==============================] - 0s 61us/step - loss: 0.3060 - acc: 0.8656\n",
            "Epoch 103/200\n",
            "491/491 [==============================] - 0s 65us/step - loss: 0.3060 - acc: 0.8635\n",
            "Epoch 104/200\n",
            "491/491 [==============================] - 0s 62us/step - loss: 0.3075 - acc: 0.8656\n",
            "Epoch 105/200\n",
            "491/491 [==============================] - 0s 69us/step - loss: 0.3034 - acc: 0.8656\n",
            "Epoch 106/200\n",
            "491/491 [==============================] - 0s 67us/step - loss: 0.3025 - acc: 0.8574\n",
            "Epoch 107/200\n",
            "491/491 [==============================] - 0s 69us/step - loss: 0.3007 - acc: 0.8615\n",
            "Epoch 108/200\n",
            "491/491 [==============================] - 0s 63us/step - loss: 0.2996 - acc: 0.8635\n",
            "Epoch 109/200\n",
            "491/491 [==============================] - 0s 65us/step - loss: 0.2979 - acc: 0.8615\n",
            "Epoch 110/200\n",
            "491/491 [==============================] - 0s 59us/step - loss: 0.2954 - acc: 0.8717\n",
            "Epoch 111/200\n",
            "491/491 [==============================] - 0s 67us/step - loss: 0.2940 - acc: 0.8656\n",
            "Epoch 112/200\n",
            "491/491 [==============================] - 0s 78us/step - loss: 0.2957 - acc: 0.8635\n",
            "Epoch 113/200\n",
            "491/491 [==============================] - 0s 71us/step - loss: 0.2924 - acc: 0.8697\n",
            "Epoch 114/200\n",
            "491/491 [==============================] - 0s 62us/step - loss: 0.2931 - acc: 0.8697\n",
            "Epoch 115/200\n",
            "491/491 [==============================] - 0s 62us/step - loss: 0.2902 - acc: 0.8778\n",
            "Epoch 116/200\n",
            "491/491 [==============================] - 0s 66us/step - loss: 0.2886 - acc: 0.8737\n",
            "Epoch 117/200\n",
            "491/491 [==============================] - 0s 70us/step - loss: 0.2885 - acc: 0.8635\n",
            "Epoch 118/200\n",
            "491/491 [==============================] - 0s 57us/step - loss: 0.2869 - acc: 0.8697\n",
            "Epoch 119/200\n",
            "491/491 [==============================] - 0s 66us/step - loss: 0.2861 - acc: 0.8737\n",
            "Epoch 120/200\n",
            "491/491 [==============================] - 0s 80us/step - loss: 0.2847 - acc: 0.8717\n",
            "Epoch 121/200\n",
            "491/491 [==============================] - 0s 67us/step - loss: 0.2838 - acc: 0.8839\n",
            "Epoch 122/200\n",
            "491/491 [==============================] - 0s 66us/step - loss: 0.2842 - acc: 0.8737\n",
            "Epoch 123/200\n",
            "491/491 [==============================] - 0s 69us/step - loss: 0.2824 - acc: 0.8798\n",
            "Epoch 124/200\n",
            "491/491 [==============================] - 0s 56us/step - loss: 0.2822 - acc: 0.8778\n",
            "Epoch 125/200\n",
            "491/491 [==============================] - 0s 73us/step - loss: 0.2813 - acc: 0.8798\n",
            "Epoch 126/200\n",
            "491/491 [==============================] - 0s 66us/step - loss: 0.2789 - acc: 0.8758\n",
            "Epoch 127/200\n",
            "491/491 [==============================] - 0s 61us/step - loss: 0.2755 - acc: 0.8839\n",
            "Epoch 128/200\n",
            "491/491 [==============================] - 0s 54us/step - loss: 0.2759 - acc: 0.8819\n",
            "Epoch 129/200\n",
            "491/491 [==============================] - 0s 70us/step - loss: 0.2751 - acc: 0.8859\n",
            "Epoch 130/200\n",
            "491/491 [==============================] - 0s 67us/step - loss: 0.2744 - acc: 0.8819\n",
            "Epoch 131/200\n",
            "491/491 [==============================] - 0s 71us/step - loss: 0.2738 - acc: 0.8819\n",
            "Epoch 132/200\n",
            "491/491 [==============================] - 0s 71us/step - loss: 0.2718 - acc: 0.8839\n",
            "Epoch 133/200\n",
            "491/491 [==============================] - 0s 57us/step - loss: 0.2698 - acc: 0.8880\n",
            "Epoch 134/200\n",
            "491/491 [==============================] - 0s 78us/step - loss: 0.2700 - acc: 0.8921\n",
            "Epoch 135/200\n",
            "491/491 [==============================] - 0s 59us/step - loss: 0.2684 - acc: 0.8900\n",
            "Epoch 136/200\n",
            "491/491 [==============================] - 0s 61us/step - loss: 0.2665 - acc: 0.8880\n",
            "Epoch 137/200\n",
            "491/491 [==============================] - 0s 57us/step - loss: 0.2651 - acc: 0.8880\n",
            "Epoch 138/200\n",
            "491/491 [==============================] - 0s 78us/step - loss: 0.2649 - acc: 0.8941\n",
            "Epoch 139/200\n",
            "491/491 [==============================] - 0s 77us/step - loss: 0.2633 - acc: 0.8880\n",
            "Epoch 140/200\n",
            "491/491 [==============================] - 0s 73us/step - loss: 0.2607 - acc: 0.8859\n",
            "Epoch 141/200\n",
            "491/491 [==============================] - 0s 58us/step - loss: 0.2599 - acc: 0.8859\n",
            "Epoch 142/200\n",
            "491/491 [==============================] - 0s 58us/step - loss: 0.2595 - acc: 0.8880\n",
            "Epoch 143/200\n",
            "491/491 [==============================] - 0s 65us/step - loss: 0.2575 - acc: 0.8921\n",
            "Epoch 144/200\n",
            "491/491 [==============================] - 0s 64us/step - loss: 0.2559 - acc: 0.8941\n",
            "Epoch 145/200\n",
            "491/491 [==============================] - 0s 59us/step - loss: 0.2545 - acc: 0.8941\n",
            "Epoch 146/200\n",
            "491/491 [==============================] - 0s 72us/step - loss: 0.2543 - acc: 0.8900\n",
            "Epoch 147/200\n",
            "491/491 [==============================] - 0s 70us/step - loss: 0.2528 - acc: 0.8921\n",
            "Epoch 148/200\n",
            "491/491 [==============================] - 0s 71us/step - loss: 0.2520 - acc: 0.8941\n",
            "Epoch 149/200\n",
            "491/491 [==============================] - 0s 63us/step - loss: 0.2517 - acc: 0.8921\n",
            "Epoch 150/200\n",
            "491/491 [==============================] - 0s 56us/step - loss: 0.2479 - acc: 0.9002\n",
            "Epoch 151/200\n",
            "491/491 [==============================] - 0s 68us/step - loss: 0.2476 - acc: 0.9002\n",
            "Epoch 152/200\n",
            "491/491 [==============================] - 0s 67us/step - loss: 0.2459 - acc: 0.8982\n",
            "Epoch 153/200\n",
            "491/491 [==============================] - 0s 62us/step - loss: 0.2447 - acc: 0.8982\n",
            "Epoch 154/200\n",
            "491/491 [==============================] - 0s 71us/step - loss: 0.2454 - acc: 0.9022\n",
            "Epoch 155/200\n",
            "491/491 [==============================] - 0s 60us/step - loss: 0.2422 - acc: 0.9063\n",
            "Epoch 156/200\n",
            "491/491 [==============================] - 0s 61us/step - loss: 0.2410 - acc: 0.9002\n",
            "Epoch 157/200\n",
            "491/491 [==============================] - 0s 55us/step - loss: 0.2393 - acc: 0.8982\n",
            "Epoch 158/200\n",
            "491/491 [==============================] - 0s 56us/step - loss: 0.2393 - acc: 0.9022\n",
            "Epoch 159/200\n",
            "491/491 [==============================] - 0s 59us/step - loss: 0.2374 - acc: 0.8982\n",
            "Epoch 160/200\n",
            "491/491 [==============================] - 0s 83us/step - loss: 0.2360 - acc: 0.9022\n",
            "Epoch 161/200\n",
            "491/491 [==============================] - 0s 69us/step - loss: 0.2364 - acc: 0.9043\n",
            "Epoch 162/200\n",
            "491/491 [==============================] - 0s 79us/step - loss: 0.2351 - acc: 0.9022\n",
            "Epoch 163/200\n",
            "491/491 [==============================] - 0s 82us/step - loss: 0.2363 - acc: 0.9124\n",
            "Epoch 164/200\n",
            "491/491 [==============================] - 0s 89us/step - loss: 0.2326 - acc: 0.9002\n",
            "Epoch 165/200\n",
            "491/491 [==============================] - 0s 76us/step - loss: 0.2303 - acc: 0.9063\n",
            "Epoch 166/200\n",
            "491/491 [==============================] - 0s 65us/step - loss: 0.2281 - acc: 0.9002\n",
            "Epoch 167/200\n",
            "491/491 [==============================] - 0s 57us/step - loss: 0.2280 - acc: 0.9022\n",
            "Epoch 168/200\n",
            "491/491 [==============================] - 0s 65us/step - loss: 0.2261 - acc: 0.9063\n",
            "Epoch 169/200\n",
            "491/491 [==============================] - 0s 58us/step - loss: 0.2244 - acc: 0.9084\n",
            "Epoch 170/200\n",
            "491/491 [==============================] - 0s 71us/step - loss: 0.2247 - acc: 0.9022\n",
            "Epoch 171/200\n",
            "491/491 [==============================] - 0s 68us/step - loss: 0.2241 - acc: 0.9104\n",
            "Epoch 172/200\n",
            "491/491 [==============================] - 0s 58us/step - loss: 0.2247 - acc: 0.9124\n",
            "Epoch 173/200\n",
            "491/491 [==============================] - 0s 66us/step - loss: 0.2270 - acc: 0.9124\n",
            "Epoch 174/200\n",
            "491/491 [==============================] - 0s 68us/step - loss: 0.2195 - acc: 0.9145\n",
            "Epoch 175/200\n",
            "491/491 [==============================] - 0s 67us/step - loss: 0.2185 - acc: 0.9226\n",
            "Epoch 176/200\n",
            "491/491 [==============================] - 0s 59us/step - loss: 0.2170 - acc: 0.9165\n",
            "Epoch 177/200\n",
            "491/491 [==============================] - 0s 68us/step - loss: 0.2172 - acc: 0.9145\n",
            "Epoch 178/200\n",
            "491/491 [==============================] - 0s 71us/step - loss: 0.2169 - acc: 0.9104\n",
            "Epoch 179/200\n",
            "491/491 [==============================] - 0s 67us/step - loss: 0.2138 - acc: 0.9165\n",
            "Epoch 180/200\n",
            "491/491 [==============================] - 0s 63us/step - loss: 0.2132 - acc: 0.9185\n",
            "Epoch 181/200\n",
            "491/491 [==============================] - 0s 72us/step - loss: 0.2153 - acc: 0.9145\n",
            "Epoch 182/200\n",
            "491/491 [==============================] - 0s 54us/step - loss: 0.2119 - acc: 0.9145\n",
            "Epoch 183/200\n",
            "491/491 [==============================] - 0s 57us/step - loss: 0.2112 - acc: 0.9206\n",
            "Epoch 184/200\n",
            "491/491 [==============================] - 0s 74us/step - loss: 0.2087 - acc: 0.9226\n",
            "Epoch 185/200\n",
            "491/491 [==============================] - 0s 66us/step - loss: 0.2084 - acc: 0.9267\n",
            "Epoch 186/200\n",
            "491/491 [==============================] - 0s 69us/step - loss: 0.2083 - acc: 0.9185\n",
            "Epoch 187/200\n",
            "491/491 [==============================] - 0s 56us/step - loss: 0.2089 - acc: 0.9226\n",
            "Epoch 188/200\n",
            "491/491 [==============================] - 0s 60us/step - loss: 0.2072 - acc: 0.9246\n",
            "Epoch 189/200\n",
            "491/491 [==============================] - 0s 67us/step - loss: 0.2031 - acc: 0.9246\n",
            "Epoch 190/200\n",
            "491/491 [==============================] - 0s 58us/step - loss: 0.2022 - acc: 0.9246\n",
            "Epoch 191/200\n",
            "491/491 [==============================] - 0s 93us/step - loss: 0.2023 - acc: 0.9267\n",
            "Epoch 192/200\n",
            "491/491 [==============================] - 0s 75us/step - loss: 0.2012 - acc: 0.9267\n",
            "Epoch 193/200\n",
            "491/491 [==============================] - 0s 59us/step - loss: 0.1988 - acc: 0.9246\n",
            "Epoch 194/200\n",
            "491/491 [==============================] - 0s 62us/step - loss: 0.2003 - acc: 0.9246\n",
            "Epoch 195/200\n",
            "491/491 [==============================] - 0s 57us/step - loss: 0.1985 - acc: 0.9308\n",
            "Epoch 196/200\n",
            "491/491 [==============================] - 0s 61us/step - loss: 0.1980 - acc: 0.9287\n",
            "Epoch 197/200\n",
            "491/491 [==============================] - 0s 73us/step - loss: 0.1959 - acc: 0.9206\n",
            "Epoch 198/200\n",
            "491/491 [==============================] - 0s 65us/step - loss: 0.1957 - acc: 0.9328\n",
            "Epoch 199/200\n",
            "491/491 [==============================] - 0s 69us/step - loss: 0.1968 - acc: 0.9206\n",
            "Epoch 200/200\n",
            "491/491 [==============================] - 0s 76us/step - loss: 0.1933 - acc: 0.9287\n"
          ],
          "name": "stdout"
        },
        {
          "output_type": "execute_result",
          "data": {
            "text/plain": [
              "<keras.callbacks.History at 0x7f0abd7f3d30>"
            ]
          },
          "metadata": {
            "tags": []
          },
          "execution_count": 137
        }
      ]
    },
    {
      "cell_type": "markdown",
      "metadata": {
        "id": "hLJB4G3TWAbg",
        "colab_type": "text"
      },
      "source": [
        "## Results analysis\n",
        "### Testing accuracy\n",
        "evaluate()"
      ]
    },
    {
      "cell_type": "code",
      "metadata": {
        "id": "jlbcBTyEVz5x",
        "colab_type": "code",
        "outputId": "8bcab25a-fb16-49c1-bca8-0a6eae1c216f",
        "colab": {
          "base_uri": "https://localhost:8080/",
          "height": 122
        }
      },
      "source": [
        "scores = model.evaluate(X_train, y_train)\n",
        "print(\"Training Accuracy: %.2f%%\\n\" %(scores[1]*100))\n",
        "\n",
        "scores = model.evaluate(X_test, y_test)\n",
        "print(\"Testing Accuracy: %.2f%%\\n\" %(scores[1]*100))"
      ],
      "execution_count": 0,
      "outputs": [
        {
          "output_type": "stream",
          "text": [
            "491/491 [==============================] - 0s 122us/step\n",
            "Training Accuracy: 93.28%\n",
            "\n",
            "154/154 [==============================] - 0s 54us/step\n",
            "Testing Accuracy: 77.27%\n",
            "\n"
          ],
          "name": "stdout"
        }
      ]
    },
    {
      "cell_type": "markdown",
      "metadata": {
        "id": "dAHHPjKvW3Kq",
        "colab_type": "text"
      },
      "source": [
        "### Confusion Matrix"
      ]
    },
    {
      "cell_type": "markdown",
      "metadata": {
        "id": "h6JfCl6WXA2w",
        "colab_type": "text"
      },
      "source": [
        "- **True Negative:** Actual class is negative, predict negative\n",
        "- **False Positive:** Actual class is negative, predict positive\n",
        "- **False Negative:** Actual class is positive, predict negative\n",
        "- **True Positive:** Actual class is positive, predict positive\n"
      ]
    },
    {
      "cell_type": "code",
      "metadata": {
        "id": "WPklWgmyWsI8",
        "colab_type": "code",
        "outputId": "3626ad7e-1c6f-4f78-c842-01cea9656722",
        "colab": {
          "base_uri": "https://localhost:8080/",
          "height": 297
        }
      },
      "source": [
        "# from sklearn.metrics import confusion_matrix\n",
        "# import seaborn as sns\n",
        "y_test_pred = model.predict_classes(X_test)\n",
        "conf_matrix = confusion_matrix(y_test, y_test_pred)\n",
        "ax = sns.heatmap(conf_matrix, annot=True, xticklabels=['No Diabetes', 'Diabetes'],\n",
        "                yticklabels=['No Diabetes', 'Diabetes'], cbar=False, cmap=\"Blues\")\n",
        "ax.set_xlabel(\"Prediction\")\n",
        "ax.set_ylabel(\"Actual\")"
      ],
      "execution_count": 0,
      "outputs": [
        {
          "output_type": "execute_result",
          "data": {
            "text/plain": [
              "Text(33.0, 0.5, 'Actual')"
            ]
          },
          "metadata": {
            "tags": []
          },
          "execution_count": 142
        },
        {
          "output_type": "display_data",
          "data": {
            "image/png": "[encoded data removed]",
            "text/plain": [
              "<Figure size 432x288 with 1 Axes>"
            ]
          },
          "metadata": {
            "tags": []
          }
        }
      ]
    },
    {
      "cell_type": "markdown",
      "metadata": {
        "id": "DZsPDlqnZCM4",
        "colab_type": "text"
      },
      "source": [
        "- **Accuracy:** $\\frac{TP}{Total}$\n",
        "- **Precision:** $\\frac{TP}{TP+FP}$\n",
        "- **Recall:** $\\frac{TP}{TP+FN}$ (Sensitivity, TPR(True Positive rate))\n",
        "- **FRP:** $\\frac{FP}{FP+TN}$ (False Positive rate)\n",
        "- **F-Measure:** $\\frac{2*Precision*Recall}{Precision+Recall}$\n",
        "\n",
        "We always prefer the model with lower FN.\n"
      ]
    },
    {
      "cell_type": "markdown",
      "metadata": {
        "id": "5Iikev4ScL4-",
        "colab_type": "text"
      },
      "source": [
        "### ROC curve\n",
        "- **AUC:** Area under the curve. Larger AUC indicates higher accuracy."
      ]
    },
    {
      "cell_type": "code",
      "metadata": {
        "id": "ScXXbIPdXw97",
        "colab_type": "code",
        "colab": {}
      },
      "source": [
        "#from sklearn.metrics import roc_curve\n",
        "#import matplotlib.pyplot as plt\n",
        "y_test_pred_probs = model.predict(X_test)\n",
        "FPR, TPR, _ = roc_curve(y_test, y_test_pred_probs)"
      ],
      "execution_count": 0,
      "outputs": []
    },
    {
      "cell_type": "code",
      "metadata": {
        "id": "nrD_KIvjdu1s",
        "colab_type": "code",
        "outputId": "01c44de2-4bb7-490b-85a1-4c98d6d5f1e8",
        "colab": {
          "base_uri": "https://localhost:8080/",
          "height": 313
        }
      },
      "source": [
        "plt.plot(FPR, TPR)\n",
        "plt.plot([0,1],[0,1],'--', color='black') # 45 degree diagnol line\n",
        "plt.title(\"ROC Curve\")\n",
        "plt.xlabel(\"False Positive rate\")\n",
        "plt.ylabel(\"True Positive rate\")"
      ],
      "execution_count": 0,
      "outputs": [
        {
          "output_type": "execute_result",
          "data": {
            "text/plain": [
              "Text(0, 0.5, 'True Positive rate')"
            ]
          },
          "metadata": {
            "tags": []
          },
          "execution_count": 145
        },
        {
          "output_type": "display_data",
          "data": {
            "image/png": "[encoded data removed]",
            "text/plain": [
              "<Figure size 432x288 with 1 Axes>"
            ]
          },
          "metadata": {
            "tags": []
          }
        }
      ]
    },
    {
      "cell_type": "markdown",
      "metadata": {
        "id": "GFWcefa2esPI",
        "colab_type": "text"
      },
      "source": [
        "## Further Improvements\n",
        "- feature selection\n",
        "- replace missing values with other values\n",
        "- how to improve FN"
      ]
    },
    {
      "cell_type": "code",
      "metadata": {
        "id": "sCOcs9QJd9M-",
        "colab_type": "code",
        "colab": {}
      },
      "source": [
        ""
      ],
      "execution_count": 0,
      "outputs": []
    }
  ]
}